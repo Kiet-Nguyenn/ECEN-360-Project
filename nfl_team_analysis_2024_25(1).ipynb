{
 "cells": [
  {
   "cell_type": "markdown",
   "id": "222eabc4",
   "metadata": {},
   "source": [
    "# NFL Team Performance Analysis (2024-25 Season)"
   ]
  },
  {
   "cell_type": "code",
   "execution_count": 3,
   "id": "3900d214",
   "metadata": {},
   "outputs": [
    {
     "name": "stdout",
     "output_type": "stream",
     "text": [
      "\n",
      "2024-25 Team Scores (lower is better):\n",
      "                 Team     Score\n",
      "     Baltimore Ravens  3.376708\n",
      "        Detroit Lions  4.377215\n",
      "  San Francisco 49ers  4.577274\n",
      "  Philadelphia Eagles  5.383518\n",
      "   Kansas City Chiefs  6.641276\n",
      "        Buffalo Bills  7.760272\n",
      "   Cincinnati Bengals  9.456022\n",
      "       Dallas Cowboys 10.071725\n",
      "       Miami Dolphins 10.455213\n",
      " Jacksonville Jaguars 12.077709\n",
      " New England Patriots 12.326083\n",
      "     Los Angeles Rams 13.527945\n",
      "    Minnesota Vikings 13.862012\n",
      "     Seattle Seahawks 13.978888\n",
      "  Pittsburgh Steelers 15.868302\n",
      " Los Angeles Chargers 16.023780\n",
      "        New York Jets 18.032854\n",
      "    Green Bay Packers 18.610016\n",
      "     Cleveland Browns 18.776395\n",
      "    Arizona Cardinals 19.070098\n",
      "   New Orleans Saints 21.019088\n",
      "      Atlanta Falcons 21.229984\n",
      "    Carolina Panthers 21.794275\n",
      "       Houston Texans 22.944453\n",
      "     Tennessee Titans 23.137115\n",
      " Tampa Bay Buccaneers 23.269617\n",
      "    Las Vegas Raiders 24.964064\n",
      "   Indianapolis Colts 25.269775\n",
      "Washington Commanders 26.813183\n",
      "       Denver Broncos 27.108657\n",
      "        Chicago Bears 27.243641\n",
      "      New York Giants 28.525691\n"
     ]
    }
   ],
   "source": [
    "# 📦 1. Import Libraries\n",
    "import pandas as pd\n",
    "\n",
    "# 📥 2. Load and Preview Data\n",
    "df = pd.read_csv(\"2024_team_stats.csv\")  # make sure the CSV is saved with this name\n",
    "df.head()\n",
    "\n",
    "# 🧹 3. Clean and Parse the Data\n",
    "stat_columns = df.columns[1:]  # all stats excluding team name\n",
    "df[stat_columns] = df[stat_columns].apply(pd.to_numeric, errors='coerce')\n",
    "\n",
    "# 📊 4. Use Given Weights (from the image)\n",
    "weights = {\n",
    "    'PointDifferential(Rank)': 0.201375,\n",
    "    'TurnoverMargin(Rank)': 0.150301,\n",
    "    'YardsAllowedPerGame(Rank)': 0.118523,\n",
    "    'TotalYardsPerGame(Rank)': 0.090575,\n",
    "    'YardsPerAttempt(Rank)': 0.087150,\n",
    "    '3rdDownEfficiency(Rank)': 0.085007,\n",
    "    '4thDownEfficiency(Rank)': 0.072778,\n",
    "    'FieldGoalPercentage(Rank)': 0.068099,\n",
    "    'CompletionPercentage(Rank)': 0.064017,\n",
    "    'YardsPerCarry(Rank)': 0.061366\n",
    "}\n",
    "\n",
    "# 📈 5. Compute Weighted Scores\n",
    "df['Score'] = df[weights.keys()].apply(\n",
    "    lambda row: sum(row[col] * weights[col] for col in weights), axis=1)\n",
    "\n",
    "# 📈 6. Final Rankings (lower is better)\n",
    "final_scores = df[['Team', 'Score']].sort_values(by='Score')\n",
    "print(\"\\n2024-25 Team Scores (lower is better):\")\n",
    "print(final_scores.to_string(index=False))\n"
   ]
  },
  {
   "cell_type": "code",
   "execution_count": null,
   "id": "015cc554",
   "metadata": {},
   "outputs": [],
   "source": []
  }
 ],
 "metadata": {
  "kernelspec": {
   "display_name": "Python 3 (ipykernel)",
   "language": "python",
   "name": "python3"
  },
  "language_info": {
   "codemirror_mode": {
    "name": "ipython",
    "version": 3
   },
   "file_extension": ".py",
   "mimetype": "text/x-python",
   "name": "python",
   "nbconvert_exporter": "python",
   "pygments_lexer": "ipython3",
   "version": "3.11.4"
  }
 },
 "nbformat": 4,
 "nbformat_minor": 5
}
